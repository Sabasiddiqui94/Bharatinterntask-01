{
 "cells": [
  {
   "cell_type": "code",
   "execution_count": 1,
   "id": "8cc6c774",
   "metadata": {},
   "outputs": [
    {
     "name": "stderr",
     "output_type": "stream",
     "text": [
      "C:\\Users\\HP\\anaconda3\\lib\\site-packages\\scipy\\__init__.py:146: UserWarning: A NumPy version >=1.16.5 and <1.23.0 is required for this version of SciPy (detected version 1.24.3\n",
      "  warnings.warn(f\"A NumPy version >={np_minversion} and <{np_maxversion}\"\n"
     ]
    }
   ],
   "source": [
    "import numpy as np \n",
    "import pandas as pd \n",
    "import matplotlib.pyplot as plt \n",
    "from sklearn.preprocessing import MinMaxScaler\n",
    "from keras.models import Sequential\n",
    "from keras.layers import Dense,LSTM,Dropout"
   ]
  },
  {
   "cell_type": "code",
   "execution_count": 2,
   "id": "eae3b32f",
   "metadata": {},
   "outputs": [
    {
     "data": {
      "text/html": [
       "<div>\n",
       "<style scoped>\n",
       "    .dataframe tbody tr th:only-of-type {\n",
       "        vertical-align: middle;\n",
       "    }\n",
       "\n",
       "    .dataframe tbody tr th {\n",
       "        vertical-align: top;\n",
       "    }\n",
       "\n",
       "    .dataframe thead th {\n",
       "        text-align: right;\n",
       "    }\n",
       "</style>\n",
       "<table border=\"1\" class=\"dataframe\">\n",
       "  <thead>\n",
       "    <tr style=\"text-align: right;\">\n",
       "      <th></th>\n",
       "      <th>Date</th>\n",
       "      <th>Open</th>\n",
       "      <th>High</th>\n",
       "      <th>Low</th>\n",
       "      <th>Close</th>\n",
       "      <th>Volume</th>\n",
       "    </tr>\n",
       "  </thead>\n",
       "  <tbody>\n",
       "    <tr>\n",
       "      <th>0</th>\n",
       "      <td>1/3/2012</td>\n",
       "      <td>325.25</td>\n",
       "      <td>332.83</td>\n",
       "      <td>324.97</td>\n",
       "      <td>663.59</td>\n",
       "      <td>7,380,500</td>\n",
       "    </tr>\n",
       "    <tr>\n",
       "      <th>1</th>\n",
       "      <td>1/4/2012</td>\n",
       "      <td>331.27</td>\n",
       "      <td>333.87</td>\n",
       "      <td>329.08</td>\n",
       "      <td>666.45</td>\n",
       "      <td>5,749,400</td>\n",
       "    </tr>\n",
       "    <tr>\n",
       "      <th>2</th>\n",
       "      <td>1/5/2012</td>\n",
       "      <td>329.83</td>\n",
       "      <td>330.75</td>\n",
       "      <td>326.89</td>\n",
       "      <td>657.21</td>\n",
       "      <td>6,590,300</td>\n",
       "    </tr>\n",
       "    <tr>\n",
       "      <th>3</th>\n",
       "      <td>1/6/2012</td>\n",
       "      <td>328.34</td>\n",
       "      <td>328.77</td>\n",
       "      <td>323.68</td>\n",
       "      <td>648.24</td>\n",
       "      <td>5,405,900</td>\n",
       "    </tr>\n",
       "    <tr>\n",
       "      <th>4</th>\n",
       "      <td>1/9/2012</td>\n",
       "      <td>322.04</td>\n",
       "      <td>322.29</td>\n",
       "      <td>309.46</td>\n",
       "      <td>620.76</td>\n",
       "      <td>11,688,800</td>\n",
       "    </tr>\n",
       "  </tbody>\n",
       "</table>\n",
       "</div>"
      ],
      "text/plain": [
       "       Date    Open    High     Low   Close      Volume\n",
       "0  1/3/2012  325.25  332.83  324.97  663.59   7,380,500\n",
       "1  1/4/2012  331.27  333.87  329.08  666.45   5,749,400\n",
       "2  1/5/2012  329.83  330.75  326.89  657.21   6,590,300\n",
       "3  1/6/2012  328.34  328.77  323.68  648.24   5,405,900\n",
       "4  1/9/2012  322.04  322.29  309.46  620.76  11,688,800"
      ]
     },
     "execution_count": 2,
     "metadata": {},
     "output_type": "execute_result"
    }
   ],
   "source": [
    "data = pd.read_csv('Google_train_data.csv')\n",
    "data.head()"
   ]
  },
  {
   "cell_type": "code",
   "execution_count": 3,
   "id": "c1636047",
   "metadata": {},
   "outputs": [
    {
     "name": "stdout",
     "output_type": "stream",
     "text": [
      "<class 'pandas.core.frame.DataFrame'>\n",
      "RangeIndex: 1258 entries, 0 to 1257\n",
      "Data columns (total 6 columns):\n",
      " #   Column  Non-Null Count  Dtype  \n",
      "---  ------  --------------  -----  \n",
      " 0   Date    1258 non-null   object \n",
      " 1   Open    1258 non-null   float64\n",
      " 2   High    1258 non-null   float64\n",
      " 3   Low     1258 non-null   float64\n",
      " 4   Close   1258 non-null   object \n",
      " 5   Volume  1258 non-null   object \n",
      "dtypes: float64(3), object(3)\n",
      "memory usage: 59.1+ KB\n"
     ]
    }
   ],
   "source": [
    "data.info()"
   ]
  },
  {
   "cell_type": "code",
   "execution_count": 4,
   "id": "aaaf3ba8",
   "metadata": {},
   "outputs": [],
   "source": [
    "data[\"Close\"]=pd.to_numeric(data.Close,errors='coerce')\n",
    "data = data.dropna()\n",
    "trainData = data.iloc[:,4:5].values"
   ]
  },
  {
   "cell_type": "code",
   "execution_count": 5,
   "id": "656f9993",
   "metadata": {},
   "outputs": [
    {
     "name": "stdout",
     "output_type": "stream",
     "text": [
      "<class 'pandas.core.frame.DataFrame'>\n",
      "Int64Index: 1149 entries, 0 to 1257\n",
      "Data columns (total 6 columns):\n",
      " #   Column  Non-Null Count  Dtype  \n",
      "---  ------  --------------  -----  \n",
      " 0   Date    1149 non-null   object \n",
      " 1   Open    1149 non-null   float64\n",
      " 2   High    1149 non-null   float64\n",
      " 3   Low     1149 non-null   float64\n",
      " 4   Close   1149 non-null   float64\n",
      " 5   Volume  1149 non-null   object \n",
      "dtypes: float64(4), object(2)\n",
      "memory usage: 62.8+ KB\n"
     ]
    }
   ],
   "source": [
    "data.info()"
   ]
  },
  {
   "cell_type": "code",
   "execution_count": 6,
   "id": "8c7b8fcb",
   "metadata": {},
   "outputs": [
    {
     "data": {
      "text/plain": [
       "(1149, 1)"
      ]
     },
     "execution_count": 6,
     "metadata": {},
     "output_type": "execute_result"
    }
   ],
   "source": [
    "sc = MinMaxScaler(feature_range=(0,1))\n",
    "trainData = sc.fit_transform(trainData)\n",
    "trainData.shape"
   ]
  },
  {
   "cell_type": "code",
   "execution_count": 7,
   "id": "dc00bc4a",
   "metadata": {},
   "outputs": [],
   "source": [
    "X_train = []\n",
    "y_train = []\n",
    "\n",
    "for i in range (60,1149): #60 : timestep // 1149 : length of the data\n",
    "    X_train.append(trainData[i-60:i,0]) \n",
    "    y_train.append(trainData[i,0])\n",
    "\n",
    "X_train,y_train = np.array(X_train),np.array(y_train)"
   ]
  },
  {
   "cell_type": "code",
   "execution_count": 8,
   "id": "0e1b155b",
   "metadata": {},
   "outputs": [
    {
     "data": {
      "text/plain": [
       "(1089, 60, 1)"
      ]
     },
     "execution_count": 8,
     "metadata": {},
     "output_type": "execute_result"
    }
   ],
   "source": [
    "X_train = np.reshape(X_train,(X_train.shape[0],X_train.shape[1],1)) #adding the batch_size axis\n",
    "X_train.shape"
   ]
  },
  {
   "cell_type": "code",
   "execution_count": 9,
   "id": "21336328",
   "metadata": {},
   "outputs": [],
   "source": [
    "model = Sequential()\n",
    "\n",
    "model.add(LSTM(units=100, return_sequences = True, input_shape =(X_train.shape[1],1)))\n",
    "model.add(Dropout(0.2))\n",
    "\n",
    "model.add(LSTM(units=100, return_sequences = True))\n",
    "model.add(Dropout(0.2))\n",
    "\n",
    "model.add(LSTM(units=100, return_sequences = True))\n",
    "model.add(Dropout(0.2))\n",
    "\n",
    "model.add(LSTM(units=100, return_sequences = False))\n",
    "model.add(Dropout(0.2))\n",
    "\n",
    "model.add(Dense(units =1))\n",
    "model.compile(optimizer='adam',loss=\"mean_squared_error\")"
   ]
  },
  {
   "cell_type": "code",
   "execution_count": 10,
   "id": "d46d3f12",
   "metadata": {},
   "outputs": [
    {
     "name": "stdout",
     "output_type": "stream",
     "text": [
      "Epoch 1/20\n",
      "35/35 - 14s - loss: 0.0331 - 14s/epoch - 413ms/step\n",
      "Epoch 2/20\n",
      "35/35 - 6s - loss: 0.0105 - 6s/epoch - 159ms/step\n",
      "Epoch 3/20\n",
      "35/35 - 6s - loss: 0.0105 - 6s/epoch - 160ms/step\n",
      "Epoch 4/20\n",
      "35/35 - 6s - loss: 0.0080 - 6s/epoch - 163ms/step\n",
      "Epoch 5/20\n",
      "35/35 - 6s - loss: 0.0070 - 6s/epoch - 166ms/step\n",
      "Epoch 6/20\n",
      "35/35 - 6s - loss: 0.0079 - 6s/epoch - 161ms/step\n",
      "Epoch 7/20\n",
      "35/35 - 6s - loss: 0.0072 - 6s/epoch - 163ms/step\n",
      "Epoch 8/20\n",
      "35/35 - 6s - loss: 0.0078 - 6s/epoch - 166ms/step\n",
      "Epoch 9/20\n",
      "35/35 - 6s - loss: 0.0065 - 6s/epoch - 167ms/step\n",
      "Epoch 10/20\n",
      "35/35 - 6s - loss: 0.0063 - 6s/epoch - 164ms/step\n",
      "Epoch 11/20\n",
      "35/35 - 6s - loss: 0.0062 - 6s/epoch - 158ms/step\n",
      "Epoch 12/20\n",
      "35/35 - 6s - loss: 0.0055 - 6s/epoch - 163ms/step\n",
      "Epoch 13/20\n",
      "35/35 - 6s - loss: 0.0053 - 6s/epoch - 167ms/step\n",
      "Epoch 14/20\n",
      "35/35 - 6s - loss: 0.0054 - 6s/epoch - 173ms/step\n",
      "Epoch 15/20\n",
      "35/35 - 6s - loss: 0.0056 - 6s/epoch - 163ms/step\n",
      "Epoch 16/20\n",
      "35/35 - 6s - loss: 0.0052 - 6s/epoch - 165ms/step\n",
      "Epoch 17/20\n",
      "35/35 - 6s - loss: 0.0047 - 6s/epoch - 166ms/step\n",
      "Epoch 18/20\n",
      "35/35 - 6s - loss: 0.0063 - 6s/epoch - 160ms/step\n",
      "Epoch 19/20\n",
      "35/35 - 6s - loss: 0.0049 - 6s/epoch - 169ms/step\n",
      "Epoch 20/20\n",
      "35/35 - 6s - loss: 0.0059 - 6s/epoch - 171ms/step\n"
     ]
    }
   ],
   "source": [
    "hist = model.fit(X_train, y_train, epochs = 20, batch_size = 32, verbose=2)"
   ]
  },
  {
   "cell_type": "code",
   "execution_count": 11,
   "id": "171bb944",
   "metadata": {},
   "outputs": [
    {
     "data": {
      "image/png": "[encoded data removed]",
      "text/plain": [
       "<Figure size 432x288 with 1 Axes>"
      ]
     },
     "metadata": {
      "needs_background": "light"
     },
     "output_type": "display_data"
    }
   ],
   "source": [
    "plt.plot(hist.history['loss'])\n",
    "plt.title('Training model loss')\n",
    "plt.ylabel('loss')\n",
    "plt.xlabel('epoch')\n",
    "plt.legend(['train'], loc='upper left')\n",
    "plt.show()"
   ]
  },
  {
   "cell_type": "code",
   "execution_count": 12,
   "id": "258a1c41",
   "metadata": {},
   "outputs": [
    {
     "data": {
      "text/plain": [
       "(192, 60, 1)"
      ]
     },
     "execution_count": 12,
     "metadata": {},
     "output_type": "execute_result"
    }
   ],
   "source": [
    "testData = pd.read_csv('Google_test_data.csv')\n",
    "testData[\"Close\"]=pd.to_numeric(testData.Close,errors='coerce')\n",
    "testData = testData.dropna()\n",
    "testData = testData.iloc[:,4:5]\n",
    "y_test = testData.iloc[60:,0:].values \n",
    "#input array for the model\n",
    "inputClosing = testData.iloc[:,0:].values \n",
    "inputClosing_scaled = sc.transform(inputClosing)\n",
    "inputClosing_scaled.shape\n",
    "X_test = []\n",
    "length = len(testData)\n",
    "timestep = 60\n",
    "for i in range(timestep,length):  \n",
    "    X_test.append(inputClosing_scaled[i-timestep:i,0])\n",
    "X_test = np.array(X_test)\n",
    "X_test = np.reshape(X_test,(X_test.shape[0],X_test.shape[1],1))\n",
    "X_test.shape"
   ]
  },
  {
   "cell_type": "code",
   "execution_count": 13,
   "id": "ec839da6",
   "metadata": {},
   "outputs": [
    {
     "name": "stdout",
     "output_type": "stream",
     "text": [
      "6/6 [==============================] - 2s 59ms/step\n"
     ]
    },
    {
     "data": {
      "text/plain": [
       "array([[1.1482598],\n",
       "       [1.1502063],\n",
       "       [1.1609447],\n",
       "       [1.1771429],\n",
       "       [1.1898766],\n",
       "       [1.1894408],\n",
       "       [1.1769704],\n",
       "       [1.1604322],\n",
       "       [1.1504854],\n",
       "       [1.14853  ],\n",
       "       [1.1426421],\n",
       "       [1.1322218],\n",
       "       [1.122883 ],\n",
       "       [1.1142343],\n",
       "       [1.1124701],\n",
       "       [1.1167352],\n",
       "       [1.1337773],\n",
       "       [1.1603353],\n",
       "       [1.1903151],\n",
       "       [1.2198318],\n",
       "       [1.2309114],\n",
       "       [1.2271992],\n",
       "       [1.2080088],\n",
       "       [1.1812716],\n",
       "       [1.1577747],\n",
       "       [1.1449884],\n",
       "       [1.1424805],\n",
       "       [1.1421732],\n",
       "       [1.1348964],\n",
       "       [1.1240381],\n",
       "       [1.112298 ],\n",
       "       [1.099235 ],\n",
       "       [1.0800058],\n",
       "       [1.0566169],\n",
       "       [1.0477202],\n",
       "       [1.0573262],\n",
       "       [1.0780655],\n",
       "       [1.1010145],\n",
       "       [1.1224171],\n",
       "       [1.1327407],\n",
       "       [1.1438831],\n",
       "       [1.1580571],\n",
       "       [1.1747524],\n",
       "       [1.1902865],\n",
       "       [1.2007481],\n",
       "       [1.2021145],\n",
       "       [1.1930035],\n",
       "       [1.1851774],\n",
       "       [1.1836026],\n",
       "       [1.1896113],\n",
       "       [1.2020212],\n",
       "       [1.2099546],\n",
       "       [1.211686 ],\n",
       "       [1.2084109],\n",
       "       [1.2067281],\n",
       "       [1.2032428],\n",
       "       [1.1954294],\n",
       "       [1.1916835],\n",
       "       [1.2002958],\n",
       "       [1.2171438],\n",
       "       [1.2411178],\n",
       "       [1.2696894],\n",
       "       [1.2891191],\n",
       "       [1.2917453],\n",
       "       [1.2801951],\n",
       "       [1.2617321],\n",
       "       [1.2494713],\n",
       "       [1.246023 ],\n",
       "       [1.249489 ],\n",
       "       [1.2542766],\n",
       "       [1.2588683],\n",
       "       [1.2612697],\n",
       "       [1.257255 ],\n",
       "       [1.251712 ],\n",
       "       [1.2471855],\n",
       "       [1.2459819],\n",
       "       [1.2479442],\n",
       "       [1.2525846],\n",
       "       [1.2634816],\n",
       "       [1.2798814],\n",
       "       [1.3010014],\n",
       "       [1.3210434],\n",
       "       [1.3321847],\n",
       "       [1.3335923],\n",
       "       [1.3369195],\n",
       "       [1.3486459],\n",
       "       [1.3655412],\n",
       "       [1.3799697],\n",
       "       [1.3881525],\n",
       "       [1.3900357],\n",
       "       [1.3913525],\n",
       "       [1.4000803],\n",
       "       [1.4160405],\n",
       "       [1.4267093],\n",
       "       [1.4255074],\n",
       "       [1.4130533],\n",
       "       [1.3923086],\n",
       "       [1.3686689],\n",
       "       [1.3490028],\n",
       "       [1.3418441],\n",
       "       [1.3475102],\n",
       "       [1.362078 ],\n",
       "       [1.3817323],\n",
       "       [1.3988997],\n",
       "       [1.4092972],\n",
       "       [1.4112136],\n",
       "       [1.4084566],\n",
       "       [1.4047364],\n",
       "       [1.4052764],\n",
       "       [1.4104407],\n",
       "       [1.4192739],\n",
       "       [1.4312464],\n",
       "       [1.4432086],\n",
       "       [1.4558979],\n",
       "       [1.4715706],\n",
       "       [1.4847254],\n",
       "       [1.4947318],\n",
       "       [1.5033314],\n",
       "       [1.5142006],\n",
       "       [1.4972678],\n",
       "       [1.452873 ],\n",
       "       [1.3969667],\n",
       "       [1.3517958],\n",
       "       [1.3261889],\n",
       "       [1.3148308],\n",
       "       [1.3109019],\n",
       "       [1.3100047],\n",
       "       [1.3112234],\n",
       "       [1.3057109],\n",
       "       [1.2917818],\n",
       "       [1.2856399],\n",
       "       [1.2941598],\n",
       "       [1.3087598],\n",
       "       [1.3168118],\n",
       "       [1.3191177],\n",
       "       [1.3185927],\n",
       "       [1.3145639],\n",
       "       [1.3067604],\n",
       "       [1.2976915],\n",
       "       [1.2852643],\n",
       "       [1.2721015],\n",
       "       [1.257453 ],\n",
       "       [1.226942 ],\n",
       "       [1.1902233],\n",
       "       [1.154692 ],\n",
       "       [1.1270877],\n",
       "       [1.1152786],\n",
       "       [1.1215308],\n",
       "       [1.1397667],\n",
       "       [1.1617472],\n",
       "       [1.1841639],\n",
       "       [1.202825 ],\n",
       "       [1.2173907],\n",
       "       [1.2302011],\n",
       "       [1.240662 ],\n",
       "       [1.2500927],\n",
       "       [1.2604364],\n",
       "       [1.2688397],\n",
       "       [1.2665408],\n",
       "       [1.2532039],\n",
       "       [1.2333668],\n",
       "       [1.2141749],\n",
       "       [1.2038151],\n",
       "       [1.2060553],\n",
       "       [1.2198348],\n",
       "       [1.2415518],\n",
       "       [1.2609042],\n",
       "       [1.2752997],\n",
       "       [1.287997 ],\n",
       "       [1.2998787],\n",
       "       [1.3098788],\n",
       "       [1.3181478],\n",
       "       [1.3248369],\n",
       "       [1.327548 ],\n",
       "       [1.326392 ],\n",
       "       [1.3185855],\n",
       "       [1.3086134],\n",
       "       [1.3017882],\n",
       "       [1.2970681],\n",
       "       [1.292394 ],\n",
       "       [1.3179579],\n",
       "       [1.3658942],\n",
       "       [1.4146745],\n",
       "       [1.4483944],\n",
       "       [1.4616387],\n",
       "       [1.4547728],\n",
       "       [1.4248978],\n",
       "       [1.3885139],\n",
       "       [1.3579165],\n",
       "       [1.3460437],\n",
       "       [1.3464388],\n",
       "       [1.349106 ]], dtype=float32)"
      ]
     },
     "execution_count": 13,
     "metadata": {},
     "output_type": "execute_result"
    }
   ],
   "source": [
    "y_pred = model.predict(X_test)\n",
    "y_pred"
   ]
  },
  {
   "cell_type": "code",
   "execution_count": 14,
   "id": "eaa2dfd8",
   "metadata": {},
   "outputs": [],
   "source": [
    "predicted_price = sc.inverse_transform(y_pred)"
   ]
  },
  {
   "cell_type": "code",
   "execution_count": 15,
   "id": "b9870544",
   "metadata": {},
   "outputs": [
    {
     "data": {
      "image/png": "[encoded data removed]",
      "text/plain": [
       "<Figure size 432x288 with 1 Axes>"
      ]
     },
     "metadata": {
      "needs_background": "light"
     },
     "output_type": "display_data"
    }
   ],
   "source": [
    "plt.plot(y_test, color = 'red', label = 'Actual Stock Price')\n",
    "plt.plot(predicted_price, color = 'green', label = 'Predicted Stock Price')\n",
    "plt.title('Google stock price prediction')\n",
    "plt.xlabel('Time')\n",
    "plt.ylabel('Stock Price')\n",
    "plt.legend()\n",
    "plt.show()"
   ]
  },
  {
   "cell_type": "code",
   "execution_count": null,
   "id": "3fe7a427",
   "metadata": {},
   "outputs": [],
   "source": []
  }
 ],
 "metadata": {
  "kernelspec": {
   "display_name": "Python 3 (ipykernel)",
   "language": "python",
   "name": "python3"
  },
  "language_info": {
   "codemirror_mode": {
    "name": "ipython",
    "version": 3
   },
   "file_extension": ".py",
   "mimetype": "text/x-python",
   "name": "python",
   "nbconvert_exporter": "python",
   "pygments_lexer": "ipython3",
   "version": "3.9.7"
  }
 },
 "nbformat": 4,
 "nbformat_minor": 5
}
